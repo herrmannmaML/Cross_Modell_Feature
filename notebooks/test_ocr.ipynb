{
 "cells": [
  {
   "cell_type": "code",
   "execution_count": null,
   "metadata": {},
   "outputs": [],
   "source": [
    "\n",
    "import os\n",
    "import sys\n",
    "import io\n",
    "from PIL import Image\n",
    "import warnings\n",
    "import pytesseract\n",
    "import cv2\n",
    "import easyocr\n",
    "from doctr.io import DocumentFile\n",
    "from doctr.models import ocr_predictor\n",
    "from datasets import Dataset\n",
    "import time\n",
    "import numpy as np\n",
    "\n",
    "\n",
    "# zeige keine Warnungen an\n",
    "warnings.filterwarnings(\"ignore\")\n",
    "\n",
    "module_path = os.path.abspath(os.path.join('..'))\n",
    "if module_path not in sys.path:\n",
    "    sys.path.append(module_path)\n",
    "\n",
    "\n",
    "from src.utils import rotate_image, pil_to_cv, from_cv_to_pil\n",
    "from src.ocr_pipeline import OCRPreprocessor, OCRPostProcessor"
   ]
  },
  {
   "cell_type": "code",
   "execution_count": null,
   "metadata": {},
   "outputs": [],
   "source": [
    "# Laden des Datensatzes\n",
    "test_dataset = Dataset.load_from_disk(\"../data/raw/test\")"
   ]
  },
  {
   "cell_type": "code",
   "execution_count": null,
   "metadata": {},
   "outputs": [],
   "source": [
    "example = test_dataset[0]"
   ]
  },
  {
   "cell_type": "code",
   "execution_count": null,
   "metadata": {},
   "outputs": [],
   "source": [
    "%%time\n",
    "# Anwenden der OCR Vorverarbeitung\n",
    "preprocessor = OCRPreprocessor(image)\n",
    "preprocessor.cropping(buffer_size=10)\n",
    "preprocessor.resize(factor=3)\n",
    "preprocessor.contrast_stretching()\n",
    "preprocessor.power_law_transform(gamma=2)\n",
    "preprocessor.to_gray()\n",
    "preprocessor.correct_skew()\n",
    "preprocessor.sharpen(kernel_type=\"laplace_standard\")\n",
    "preprocessor.opening(kernel=(1,1), iterations=2)\n",
    "preprocessor.power_law_transform(gamma=2)\n",
    "preprocessor.resize(factor=0.5)\n",
    "processed_image_small = preprocessor.get_image()"
   ]
  },
  {
   "cell_type": "code",
   "execution_count": null,
   "metadata": {},
   "outputs": [],
   "source": [
    "%%time\n",
    "pytesseract_output = pytesseract.image_to_string(processed_image_big)\n",
    "pytesseract_output"
   ]
  },
  {
   "cell_type": "code",
   "execution_count": null,
   "metadata": {},
   "outputs": [],
   "source": [
    "if pytesseract_output.strip():  # Prüft, ob `ocr_output` nicht leer ist\n",
    "    postprocessor = OCRPostProcessor(pil_standardytesseract_output)\n",
    "    # Anwenden verschiedener Methoden\n",
    "    postprocessor.identify_language()\n",
    "    postprocessor.remove_special_characters()\n",
    "    postprocessor.remove_stopwords()\n",
    "    #postprocessor.stem()\n",
    "    #postprocessor.lemmatize()\n",
    "    postprocessor.lowercase()\n",
    "    postprocessor.spellcheck(checker_type=\"symspell\")\n",
    "            \n",
    "    # Aufbereiteten OCR-Output extrahieren\n",
    "    ocr_output = postprocessor.get_text()\n",
    "else: ocr_output = \"no text found with ocr!\"\n",
    "\n",
    "ocr_output"
   ]
  }
 ],
 "metadata": {
  "language_info": {
   "name": "python"
  }
 },
 "nbformat": 4,
 "nbformat_minor": 2
}
