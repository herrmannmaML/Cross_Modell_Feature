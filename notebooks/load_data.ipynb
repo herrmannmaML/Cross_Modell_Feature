{
 "cells": [
  {
   "cell_type": "code",
   "execution_count": 1,
   "metadata": {},
   "outputs": [
    {
     "name": "stderr",
     "output_type": "stream",
     "text": [
      "/usr/local/lib/python3.11/site-packages/tqdm/auto.py:21: TqdmWarning: IProgress not found. Please update jupyter and ipywidgets. See https://ipywidgets.readthedocs.io/en/stable/user_install.html\n",
      "  from .autonotebook import tqdm as notebook_tqdm\n"
     ]
    }
   ],
   "source": [
    "import os\n",
    "import sys\n",
    "import warnings\n",
    "from datasets import DatasetDict\n",
    "\n",
    "# zeige keine Warnungen an\n",
    "warnings.filterwarnings(\"ignore\")\n",
    "\n",
    "module_path = os.path.abspath(os.path.join('..'))\n",
    "if module_path not in sys.path:\n",
    "    sys.path.append(module_path)\n",
    "    \n",
    "from src.dataloader import DataLoader"
   ]
  },
  {
   "cell_type": "code",
   "execution_count": 2,
   "metadata": {},
   "outputs": [],
   "source": [
    "# DataDownloader erstellen\n",
    "data_downloader = DataLoader(\n",
    "    dataset_name=\"maveriq/tobacco3482\",\n",
    "    save_path=\"../data/interim\"\n",
    ")"
   ]
  },
  {
   "cell_type": "code",
   "execution_count": 3,
   "metadata": {},
   "outputs": [
    {
     "name": "stderr",
     "output_type": "stream",
     "text": [
      "Downloading data: 100%|██████████| 435M/435M [00:25<00:00, 17.1MB/s] \n",
      "Downloading data: 100%|██████████| 594M/594M [00:36<00:00, 16.3MB/s] \n",
      "Downloading data: 100%|██████████| 704M/704M [00:40<00:00, 17.6MB/s] \n",
      "Generating train split: 100%|██████████| 3482/3482 [01:16<00:00, 45.60 examples/s] \n",
      "Map: 100%|██████████| 3482/3482 [00:32<00:00, 108.37 examples/s] \n",
      "Processing train-split: 100%|██████████| 2436/2436 [02:16<00:00, 17.80it/s]\n",
      "Processing validation-split: 100%|██████████| 523/523 [00:25<00:00, 20.28it/s]\n",
      "Processing test-split: 100%|██████████| 523/523 [00:25<00:00, 20.17it/s]\n",
      "Saving the dataset (3/3 shards): 100%|██████████| 2436/2436 [00:36<00:00, 66.83 examples/s]\n",
      "Saving the dataset (1/1 shards): 100%|██████████| 523/523 [00:02<00:00, 228.97 examples/s]\n",
      "Saving the dataset (1/1 shards): 100%|██████████| 523/523 [00:03<00:00, 152.46 examples/s]\n"
     ]
    }
   ],
   "source": [
    "# Datensatz downloaden und bereinigen\n",
    "data_downloader.load_and_preprocess()"
   ]
  },
  {
   "cell_type": "code",
   "execution_count": 4,
   "metadata": {},
   "outputs": [],
   "source": [
    "dataset = DatasetDict.load_from_disk(\"../data/interim\")"
   ]
  },
  {
   "cell_type": "code",
   "execution_count": 5,
   "metadata": {},
   "outputs": [
    {
     "data": {
      "text/plain": [
       "{'image': Image(decode=True, id=None),\n",
       " 'doc_category': Value(dtype='string', id=None)}"
      ]
     },
     "execution_count": 5,
     "metadata": {},
     "output_type": "execute_result"
    }
   ],
   "source": [
    "dataset[\"train\"].features"
   ]
  },
  {
   "cell_type": "code",
   "execution_count": 6,
   "metadata": {},
   "outputs": [
    {
     "data": {
      "text/plain": [
       "{'image': <PIL.JpegImagePlugin.JpegImageFile image mode=L size=1728x2292>,\n",
       " 'doc_category': 'Letter'}"
      ]
     },
     "execution_count": 6,
     "metadata": {},
     "output_type": "execute_result"
    }
   ],
   "source": [
    "dataset[\"train\"][0]"
   ]
  },
  {
   "cell_type": "code",
   "execution_count": 7,
   "metadata": {},
   "outputs": [
    {
     "data": {
      "text/plain": [
       "'L'"
      ]
     },
     "execution_count": 7,
     "metadata": {},
     "output_type": "execute_result"
    }
   ],
   "source": [
    "test_image = dataset[\"train\"][0][\"image\"]\n",
    "test_image.mode"
   ]
  },
  {
   "cell_type": "code",
   "execution_count": 8,
   "metadata": {},
   "outputs": [
    {
     "data": {
      "text/plain": [
       "'RGB'"
      ]
     },
     "execution_count": 8,
     "metadata": {},
     "output_type": "execute_result"
    }
   ],
   "source": [
    "test_image = test_image.convert(\"RGB\")\n",
    "test_image.mode"
   ]
  },
  {
   "cell_type": "code",
   "execution_count": 11,
   "metadata": {},
   "outputs": [
    {
     "name": "stderr",
     "output_type": "stream",
     "text": [
      "Map (num_proc=4): 100%|██████████| 50/50 [00:14<00:00,  3.53 examples/s]\n",
      "Map (num_proc=4): 100%|██████████| 50/50 [00:10<00:00,  4.66 examples/s]\n",
      "Map (num_proc=4): 100%|██████████| 50/50 [00:09<00:00,  5.44 examples/s]\n",
      "Map (num_proc=4): 100%|██████████| 50/50 [00:08<00:00,  5.88 examples/s]\n",
      "Map (num_proc=4): 100%|██████████| 50/50 [00:09<00:00,  5.13 examples/s]\n",
      "Map (num_proc=4): 100%|██████████| 50/50 [00:08<00:00,  6.17 examples/s]\n",
      "Map (num_proc=4): 100%|██████████| 50/50 [00:10<00:00,  4.95 examples/s]\n",
      "Map (num_proc=4): 100%|██████████| 50/50 [00:09<00:00,  5.31 examples/s]\n",
      "Map (num_proc=4): 100%|██████████| 50/50 [00:10<00:00,  4.55 examples/s]\n",
      "Map (num_proc=4): 100%|██████████| 50/50 [00:08<00:00,  6.09 examples/s]\n",
      "Map (num_proc=4): 100%|██████████| 50/50 [00:09<00:00,  5.05 examples/s]\n",
      "Map (num_proc=4): 100%|██████████| 50/50 [00:10<00:00,  4.65 examples/s]\n",
      "Map (num_proc=4): 100%|██████████| 50/50 [00:10<00:00,  4.98 examples/s]\n",
      "Map (num_proc=4): 100%|██████████| 50/50 [00:11<00:00,  4.40 examples/s]\n",
      "Map (num_proc=4): 100%|██████████| 50/50 [00:10<00:00,  4.93 examples/s]\n",
      "Map (num_proc=4): 100%|██████████| 50/50 [00:10<00:00,  4.80 examples/s]\n",
      "Map (num_proc=4): 100%|██████████| 50/50 [00:09<00:00,  5.21 examples/s]\n",
      "Map (num_proc=4): 100%|██████████| 50/50 [00:08<00:00,  5.81 examples/s]\n",
      "Map (num_proc=4): 100%|██████████| 50/50 [00:09<00:00,  5.01 examples/s]\n",
      "Map (num_proc=4): 100%|██████████| 50/50 [00:09<00:00,  5.40 examples/s]\n",
      "Map (num_proc=4): 100%|██████████| 50/50 [00:09<00:00,  5.03 examples/s]\n",
      "Map (num_proc=4): 100%|██████████| 50/50 [00:08<00:00,  5.74 examples/s]\n",
      "Map (num_proc=4): 100%|██████████| 50/50 [00:08<00:00,  6.10 examples/s]\n",
      "Map (num_proc=4): 100%|██████████| 50/50 [00:09<00:00,  5.16 examples/s]\n",
      "Map (num_proc=4): 100%|██████████| 50/50 [00:09<00:00,  5.30 examples/s]\n",
      "Map (num_proc=4): 100%|██████████| 50/50 [00:11<00:00,  4.36 examples/s]\n",
      "Map (num_proc=4): 100%|██████████| 50/50 [00:10<00:00,  4.87 examples/s]\n",
      "Map (num_proc=4): 100%|██████████| 50/50 [00:09<00:00,  5.46 examples/s]\n",
      "Map (num_proc=4): 100%|██████████| 50/50 [00:10<00:00,  4.66 examples/s]\n",
      "Map (num_proc=4): 100%|██████████| 50/50 [00:09<00:00,  5.54 examples/s]\n",
      "Map (num_proc=4): 100%|██████████| 50/50 [00:10<00:00,  4.95 examples/s]\n",
      "Map (num_proc=4): 100%|██████████| 50/50 [00:08<00:00,  5.90 examples/s]\n",
      "Map (num_proc=4): 100%|██████████| 50/50 [00:09<00:00,  5.05 examples/s]\n",
      "Map (num_proc=4): 100%|██████████| 50/50 [00:09<00:00,  5.16 examples/s]\n",
      "Map (num_proc=4): 100%|██████████| 50/50 [00:10<00:00,  4.96 examples/s]\n",
      "Map (num_proc=4): 100%|██████████| 50/50 [00:08<00:00,  6.14 examples/s]\n",
      "Map (num_proc=4): 100%|██████████| 50/50 [00:09<00:00,  5.07 examples/s]\n",
      "Map (num_proc=4): 100%|██████████| 50/50 [00:09<00:00,  5.49 examples/s]\n",
      "Map (num_proc=4): 100%|██████████| 50/50 [00:08<00:00,  5.62 examples/s]\n",
      "Map (num_proc=4): 100%|██████████| 50/50 [00:10<00:00,  4.76 examples/s]\n",
      "Map (num_proc=4): 100%|██████████| 50/50 [00:07<00:00,  6.49 examples/s]\n",
      "Map (num_proc=4): 100%|██████████| 50/50 [00:10<00:00,  4.66 examples/s]\n",
      "Map (num_proc=4): 100%|██████████| 50/50 [00:07<00:00,  6.34 examples/s]\n",
      "Map (num_proc=4): 100%|██████████| 50/50 [00:08<00:00,  5.74 examples/s]\n",
      "Map (num_proc=4): 100%|██████████| 50/50 [00:07<00:00,  6.70 examples/s]\n",
      "Map (num_proc=4): 100%|██████████| 50/50 [00:09<00:00,  5.42 examples/s]\n",
      "Map (num_proc=4): 100%|██████████| 50/50 [00:08<00:00,  5.91 examples/s]\n",
      "Map (num_proc=4): 100%|██████████| 50/50 [00:08<00:00,  6.19 examples/s]\n",
      "Map (num_proc=4): 100%|██████████| 36/36 [00:09<00:00,  3.93 examples/s]\n",
      "Map (num_proc=4): 100%|██████████| 50/50 [00:09<00:00,  5.00 examples/s]\n",
      "Map (num_proc=4): 100%|██████████| 50/50 [00:07<00:00,  6.37 examples/s]\n",
      "Map (num_proc=4): 100%|██████████| 50/50 [00:09<00:00,  5.39 examples/s]\n",
      "Map (num_proc=4): 100%|██████████| 50/50 [00:07<00:00,  6.62 examples/s]\n",
      "Map (num_proc=4): 100%|██████████| 50/50 [00:08<00:00,  5.60 examples/s]\n",
      "Map (num_proc=4): 100%|██████████| 50/50 [00:07<00:00,  7.01 examples/s]\n",
      "Map (num_proc=4): 100%|██████████| 50/50 [00:07<00:00,  6.33 examples/s]\n",
      "Map (num_proc=4): 100%|██████████| 50/50 [00:10<00:00,  4.84 examples/s]\n",
      "Map (num_proc=4): 100%|██████████| 50/50 [00:08<00:00,  6.22 examples/s]\n",
      "Map (num_proc=4): 100%|██████████| 50/50 [00:09<00:00,  5.27 examples/s]\n",
      "Map (num_proc=4): 100%|██████████| 23/23 [00:05<00:00,  4.29 examples/s]\n",
      "Map (num_proc=4): 100%|██████████| 50/50 [00:10<00:00,  4.65 examples/s]\n",
      "Map (num_proc=4): 100%|██████████| 50/50 [00:08<00:00,  6.16 examples/s]\n",
      "Map (num_proc=4): 100%|██████████| 50/50 [00:07<00:00,  6.33 examples/s]\n",
      "Map (num_proc=4): 100%|██████████| 50/50 [00:10<00:00,  4.70 examples/s]\n",
      "Map (num_proc=4): 100%|██████████| 50/50 [00:08<00:00,  6.25 examples/s]\n",
      "Map (num_proc=4): 100%|██████████| 50/50 [00:08<00:00,  5.88 examples/s]\n",
      "Map (num_proc=4): 100%|██████████| 50/50 [00:09<00:00,  5.38 examples/s]\n",
      "Map (num_proc=4): 100%|██████████| 50/50 [00:11<00:00,  4.52 examples/s]\n",
      "Map (num_proc=4): 100%|██████████| 50/50 [00:10<00:00,  4.87 examples/s]\n",
      "Map (num_proc=4): 100%|██████████| 50/50 [00:10<00:00,  4.62 examples/s]\n",
      "Map (num_proc=4): 100%|██████████| 23/23 [00:04<00:00,  4.75 examples/s]\n",
      "Saving the dataset (5/5 shards): 100%|██████████| 2436/2436 [01:20<00:00, 30.20 examples/s]\n",
      "Saving the dataset (1/1 shards): 100%|██████████| 523/523 [00:26<00:00, 20.04 examples/s]\n",
      "Saving the dataset (1/1 shards): 100%|██████████| 523/523 [00:08<00:00, 62.95 examples/s]\n"
     ]
    }
   ],
   "source": [
    "from datasets import DatasetDict, concatenate_datasets\n",
    "from PIL import Image as PILImage\n",
    "\n",
    "def add_rgb_image(batch):\n",
    "    # Wenn der Batch eine Liste ist, dann jedes Bild in der Liste umwandeln\n",
    "    if isinstance(batch['image'], list):\n",
    "        batch['image'] = [img.convert(\"RGB\") for img in batch['image']]\n",
    "    else:\n",
    "        batch['image'] = batch['image'].convert(\"RGB\")\n",
    "    return batch\n",
    "\n",
    "# Laden des Datensatzes\n",
    "dataset = DatasetDict.load_from_disk(\"../data/interim\")\n",
    "\n",
    "# Verarbeiten in Chargen\n",
    "batch_size = 50  # Größe der Chargen, anpassen je nach verfügbarem Speicher\n",
    "for split in dataset.keys():\n",
    "    num_examples = len(dataset[split])\n",
    "    updated_splits = []\n",
    "    for i in range(0, num_examples, batch_size):\n",
    "        batch = dataset[split].select(range(i, min(i + batch_size, num_examples)))\n",
    "        updated_batch = batch.map(add_rgb_image, batched=True, batch_size=batch_size, num_proc=4)  # num_proc für parallele Verarbeitung\n",
    "        updated_splits.append(updated_batch)\n",
    "    dataset[split] = concatenate_datasets(updated_splits)\n",
    "\n",
    "# Speichern des aktualisierten Datensatzes\n",
    "dataset.save_to_disk(\"../data/processed\")\n"
   ]
  },
  {
   "cell_type": "code",
   "execution_count": null,
   "metadata": {},
   "outputs": [],
   "source": []
  }
 ],
 "metadata": {
  "kernelspec": {
   "display_name": "Python 3 (ipykernel)",
   "language": "python",
   "name": "python3"
  },
  "language_info": {
   "codemirror_mode": {
    "name": "ipython",
    "version": 3
   },
   "file_extension": ".py",
   "mimetype": "text/x-python",
   "name": "python",
   "nbconvert_exporter": "python",
   "pygments_lexer": "ipython3",
   "version": "3.11.7"
  }
 },
 "nbformat": 4,
 "nbformat_minor": 2
}
